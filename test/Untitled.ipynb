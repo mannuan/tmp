{
 "cells": [
  {
   "cell_type": "code",
   "execution_count": 19,
   "metadata": {
    "collapsed": false
   },
   "outputs": [
    {
     "ename": "SyntaxError",
     "evalue": "invalid syntax (<ipython-input-19-673fbf4d9e85>, line 13)",
     "output_type": "error",
     "traceback": [
      "\u001b[0;36m  File \u001b[0;32m\"<ipython-input-19-673fbf4d9e85>\"\u001b[0;36m, line \u001b[0;32m13\u001b[0m\n\u001b[0;31m    print \"(\"+string1+\")\"+\"\\n\"\u001b[0m\n\u001b[0m            ^\u001b[0m\n\u001b[0;31mSyntaxError\u001b[0m\u001b[0;31m:\u001b[0m invalid syntax\n"
     ]
    }
   ],
   "source": [
    "import re\n",
    "\n",
    "txt='07:Oct:2017 \"This is an Example!\"'\n",
    "\n",
    "re1='.*?'\t# Non-greedy match on filler\n",
    "re2='(\".*?\")'\t# Double Quote String 1\n",
    "\n",
    "rg = re.compile(re1+re2,re.IGNORECASE|re.DOTALL)\n",
    "m = rg.search(txt)\n",
    "if m:\n",
    "    string1=m.group(1)\n",
    "    print \"(\"+string1+\")\"+\"\\n\""
   ]
  }
 ],
 "metadata": {
  "kernelspec": {
   "display_name": "Python 3",
   "language": "python",
   "name": "python3"
  },
  "language_info": {
   "codemirror_mode": {
    "name": "ipython",
    "version": 3
   },
   "file_extension": ".py",
   "mimetype": "text/x-python",
   "name": "python",
   "nbconvert_exporter": "python",
   "pygments_lexer": "ipython3",
   "version": "3.5.3"
  }
 },
 "nbformat": 4,
 "nbformat_minor": 2
}
